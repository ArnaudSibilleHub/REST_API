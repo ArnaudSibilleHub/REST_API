{
 "cells": [
  {
   "cell_type": "code",
   "execution_count": 1,
   "metadata": {},
   "outputs": [],
   "source": [
    "#import packages\n",
    "import pandas as pd\n",
    "import datetime as dt\n",
    "import numpy as np\n",
    "\n",
    "import os"
   ]
  },
  {
   "cell_type": "code",
   "execution_count": 2,
   "metadata": {},
   "outputs": [
    {
     "data": {
      "text/plain": [
       "b'<!DOCTYPE html><html lang=\"en-US\"><head><title>Just a moment...</title><meta http-equiv=\"Content-Type\" content=\"text/html; charset=UTF-8\"><meta http-equiv=\"X-UA-Compatible\" content=\"IE=Edge\"><meta name=\"robots\" content=\"noindex,nofollow\"><meta name=\"viewport\" content=\"width=device-width,initial-scale=1\"><style>*{box-sizing:border-box;margin:0;padding:0}html{line-height:1.15;-webkit-text-size-adjust:100%;color:#313131}button,html{font-family:system-ui,-apple-system,BlinkMacSystemFont,Segoe UI,Roboto,Helvetica Neue,Arial,Noto Sans,sans-serif,Apple Color Emoji,Segoe UI Emoji,Segoe UI Symbol,Noto Color Emoji}@media (prefers-color-scheme:dark){body{background-color:#222;color:#d9d9d9}body a{color:#fff}body a:hover{color:#ee730a;text-decoration:underline}body .lds-ring div{border-color:#999 transparent transparent}body .font-red{color:#b20f03}body .big-button,body .pow-button{background-color:#4693ff;color:#1d1d1d}body #challenge-success-text{background-image:url(data:image/svg+xml;base64,PHN2ZyB4bWxucz0iaHR0cDovL3d3dy53My5vcmcvMjAwMC9zdmciIHdpZHRoPSIzMiIgaGVpZ2h0PSIzMiIgZmlsbD0ibm9uZSIgdmlld0JveD0iMCAwIDI2IDI2Ij48cGF0aCBmaWxsPSIjZDlkOWQ5IiBkPSJNMTMgMGExMyAxMyAwIDEgMCAwIDI2IDEzIDEzIDAgMCAwIDAtMjZtMCAyNGExMSAxMSAwIDEgMSAwLTIyIDExIDExIDAgMCAxIDAgMjIiLz48cGF0aCBmaWxsPSIjZDlkOWQ5IiBkPSJtMTAuOTU1IDE2LjA1NS0zLjk1LTQuMTI1LTEuNDQ1IDEuMzg1IDUuMzcgNS42MSA5LjQ5NS05LjYtMS40Mi0xLjQwNXoiLz48L3N2Zz4=)}body #challenge-error-text{background-image:url(data:image/svg+xml;base64,PHN2ZyB4bWxucz0iaHR0cDovL3d3dy53My5vcmcvMjAwMC9zdmciIHdpZHRoPSIzMiIgaGVpZ2h0PSIzMiIgZmlsbD0ibm9uZSI+PHBhdGggZmlsbD0iI0IyMEYwMyIgZD0iTTE2IDNhMTMgMTMgMCAxIDAgMTMgMTNBMTMuMDE1IDEzLjAxNSAwIDAgMCAxNiAzbTAgMjRhMTEgMTEgMCAxIDEgMTEtMTEgMTEuMDEgMTEuMDEgMCAwIDEtMTEgMTEiLz48cGF0aCBmaWxsPSIjQjIwRjAzIiBkPSJNMTcuMDM4IDE4LjYxNUgxNC44N0wxNC41NjMgOS41aDIuNzgzem0tMS4wODQgMS40MjdxLjY2IDAgMS4wNTcuMzg4LjQwNy4zODkuNDA3Ljk5NCAwIC41OTYtLjQwNy45ODQtLjM5Ny4zOS0xLjA1Ny4zODktLjY1IDAtMS4wNTYtLjM4OS0uMzk4LS4zODktLjM5OC0uOTg0IDAtLjU5Ny4zOTgtLjk4NS40MDYtLjM5NyAxLjA1Ni0uMzk3Ii8+PC9zdmc+)}}body{display:flex;flex-direction:column;min-height:100vh}body.no-js .loading-spinner{visibility:hidden}body.no-js .challenge-running{display:none}body.dark{background-color:#222;color:#d9d9d9}body.dark a{color:#fff}body.dark a:hover{color:#ee730a;text-decoration:underline}body.dark .lds-ring div{border-color:#999 transparent transparent}body.dark .font-red{color:#b20f03}body.dark .big-button,body.dark .pow-button{background-color:#4693ff;color:#1d1d1d}body.dark #challenge-success-text{background-image:url(data:image/svg+xml;base64,PHN2ZyB4bWxucz0iaHR0cDovL3d3dy53My5vcmcvMjAwMC9zdmciIHdpZHRoPSIzMiIgaGVpZ2h0PSIzMiIgZmlsbD0ibm9uZSIgdmlld0JveD0iMCAwIDI2IDI2Ij48cGF0aCBmaWxsPSIjZDlkOWQ5IiBkPSJNMTMgMGExMyAxMyAwIDEgMCAwIDI2IDEzIDEzIDAgMCAwIDAtMjZtMCAyNGExMSAxMSAwIDEgMSAwLTIyIDExIDExIDAgMCAxIDAgMjIiLz48cGF0aCBmaWxsPSIjZDlkOWQ5IiBkPSJtMTAuOTU1IDE2LjA1NS0zLjk1LTQuMTI1LTEuNDQ1IDEuMzg1IDUuMzcgNS42MSA5LjQ5NS05LjYtMS40Mi0xLjQwNXoiLz48L3N2Zz4=)}body.dark #challenge-error-text{background-image:url(data:image/svg+xml;base64,PHN2ZyB4bWxucz0iaHR0cDovL3d3dy53My5vcmcvMjAwMC9zdmciIHdpZHRoPSIzMiIgaGVpZ2h0PSIzMiIgZmlsbD0ibm9uZSI+PHBhdGggZmlsbD0iI0IyMEYwMyIgZD0iTTE2IDNhMTMgMTMgMCAxIDAgMTMgMTNBMTMuMDE1IDEzLjAxNSAwIDAgMCAxNiAzbTAgMjRhMTEgMTEgMCAxIDEgMTEtMTEgMTEuMDEgMTEuMDEgMCAwIDEtMTEgMTEiLz48cGF0aCBmaWxsPSIjQjIwRjAzIiBkPSJNMTcuMDM4IDE4LjYxNUgxNC44N0wxNC41NjMgOS41aDIuNzgzem0tMS4wODQgMS40MjdxLjY2IDAgMS4wNTcuMzg4LjQwNy4zODkuNDA3Ljk5NCAwIC41OTYtLjQwNy45ODQtLjM5Ny4zOS0xLjA1Ny4zODktLjY1IDAtMS4wNTYtLjM4OS0uMzk4LS4zODktLjM5OC0uOTg0IDAtLjU5Ny4zOTgtLjk4NS40MDYtLjM5NyAxLjA1Ni0uMzk3Ii8+PC9zdmc+)}body.light{background-color:transparent;color:#313131}body.light a{color:#0051c3}body.light a:hover{color:#ee730a;text-decoration:underline}body.light .lds-ring div{border-color:#595959 transparent transparent}body.light .font-red{color:#fc574a}body.light .big-button,body.light .pow-button{background-color:#003681;border-color:#003681;color:#fff}body.light #challenge-success-text{background-image:url(data:image/svg+xml;base64,PHN2ZyB4bWxucz0iaHR0cDovL3d3dy53My5vcmcvMjAwMC9zdmciIHdpZHRoPSIzMiIgaGVpZ2h0PSIzMiIgZmlsbD0ibm9uZSIgdmlld0JveD0iMCAwIDI2IDI2Ij48cGF0aCBmaWxsPSIjMzEzMTMxIiBkPSJNMTMgMGExMyAxMyAwIDEgMCAwIDI2IDEzIDEzIDAgMCAwIDAtMjZtMCAyNGExMSAxMSAwIDEgMSAwLTIyIDExIDExIDAgMCAxIDAgMjIiLz48cGF0aCBmaWxsPSIjMzEzMTMxIiBkPSJtMTAuOTU1IDE2LjA1NS0zLjk1LTQuMTI1LTEuNDQ1IDEuMzg1IDUuMzcgNS42MSA5LjQ5NS05LjYtMS40Mi0xLjQwNXoiLz48L3N2Zz4=)}body.light #challenge-error-text{background-image:url(data:image/svg+xml;base64,PHN2ZyB4bWxucz0iaHR0cDovL3d3dy53My5vcmcvMjAwMC9zdmciIHdpZHRoPSIzMiIgaGVpZ2h0PSIzMiIgZmlsbD0ibm9uZSI+PHBhdGggZmlsbD0iI2ZjNTc0YSIgZD0iTTE2IDNhMTMgMTMgMCAxIDAgMTMgMTNBMTMuMDE1IDEzLjAxNSAwIDAgMCAxNiAzbTAgMjRhMTEgMTEgMCAxIDEgMTEtMTEgMTEuMDEgMTEuMDEgMCAwIDEtMTEgMTEiLz48cGF0aCBmaWxsPSIjZmM1NzRhIiBkPSJNMTcuMDM4IDE4LjYxNUgxNC44N0wxNC41NjMgOS41aDIuNzgzem0tMS4wODQgMS40MjdxLjY2IDAgMS4wNTcuMzg4LjQwNy4zODkuNDA3Ljk5NCAwIC41OTYtLjQwNy45ODQtLjM5Ny4zOS0xLjA1Ny4zODktLjY1IDAtMS4wNTYtLjM4OS0uMzk4LS4zODktLjM5OC0uOTg0IDAtLjU5Ny4zOTgtLjk4NS40MDYtLjM5NyAxLjA1Ni0uMzk3Ii8+PC9zdmc+)}a{background-color:transparent;color:#0051c3;text-decoration:none;transition:color .15s ease}a:hover{color:#ee730a;text-decoration:underline}.main-content{margin:8rem auto;max-width:60rem;width:100%}.heading-favicon{height:2rem;margin-right:.5rem;width:2rem}@media (width <= 720px){.main-content{margin-top:4rem}.heading-favicon{height:1.5rem;width:1.5rem}}.footer,.main-content{padding-left:1.5rem;padding-right:1.5rem}.main-wrapper{align-items:center;display:flex;flex:1;flex-direction:column}.font-red{color:#b20f03}.spacer{margin:2rem 0}.h1{font-size:2.5rem;font-weight:500;line-height:3.75rem}.h2{font-weight:500}.core-msg,.h2{font-size:1.5rem;line-height:2.25rem}.body-text,.core-msg{font-weight:400}.body-text{font-size:1rem;line-height:1.25rem}@media (width <= 720px){.h1{font-size:1.5rem;line-height:1.75rem}.h2{font-size:1.25rem}.core-msg,.h2{line-height:1.5rem}.core-msg{font-size:1rem}}#challenge-error-text{background-image:url(data:image/svg+xml;base64,PHN2ZyB4bWxucz0iaHR0cDovL3d3dy53My5vcmcvMjAwMC9zdmciIHdpZHRoPSIzMiIgaGVpZ2h0PSIzMiIgZmlsbD0ibm9uZSI+PHBhdGggZmlsbD0iI2ZjNTc0YSIgZD0iTTE2IDNhMTMgMTMgMCAxIDAgMTMgMTNBMTMuMDE1IDEzLjAxNSAwIDAgMCAxNiAzbTAgMjRhMTEgMTEgMCAxIDEgMTEtMTEgMTEuMDEgMTEuMDEgMCAwIDEtMTEgMTEiLz48cGF0aCBmaWxsPSIjZmM1NzRhIiBkPSJNMTcuMDM4IDE4LjYxNUgxNC44N0wxNC41NjMgOS41aDIuNzgzem0tMS4wODQgMS40MjdxLjY2IDAgMS4wNTcuMzg4LjQwNy4zODkuNDA3Ljk5NCAwIC41OTYtLjQwNy45ODQtLjM5Ny4zOS0xLjA1Ny4zODktLjY1IDAtMS4wNTYtLjM4OS0uMzk4LS4zODktLjM5OC0uOTg0IDAtLjU5Ny4zOTgtLjk4NS40MDYtLjM5NyAxLjA1Ni0uMzk3Ii8+PC9zdmc+);padding-left:34px}#challenge-error-text,#challenge-success-text{background-repeat:no-repeat;background-size:contain}#challenge-success-text{background-image:url(data:image/svg+xml;base64,PHN2ZyB4bWxucz0iaHR0cDovL3d3dy53My5vcmcvMjAwMC9zdmciIHdpZHRoPSIzMiIgaGVpZ2h0PSIzMiIgZmlsbD0ibm9uZSIgdmlld0JveD0iMCAwIDI2IDI2Ij48cGF0aCBmaWxsPSIjMzEzMTMxIiBkPSJNMTMgMGExMyAxMyAwIDEgMCAwIDI2IDEzIDEzIDAgMCAwIDAtMjZtMCAyNGExMSAxMSAwIDEgMSAwLTIyIDExIDExIDAgMCAxIDAgMjIiLz48cGF0aCBmaWxsPSIjMzEzMTMxIiBkPSJtMTAuOTU1IDE2LjA1NS0zLjk1LTQuMTI1LTEuNDQ1IDEuMzg1IDUuMzcgNS42MSA5LjQ5NS05LjYtMS40Mi0xLjQwNXoiLz48L3N2Zz4=);padding-left:42px}.text-center{text-align:center}.big-button{border:.063rem solid #0051c3;border-radius:.313rem;font-size:.875rem;line-height:1.313rem;padding:.375rem 1rem;transition-duration:.2s;transition-property:background-color,border-color,color;transition-timing-function:ease}.big-button:hover{cursor:pointer}.captcha-prompt:not(.hidden){display:flex}@media (width <= 720px){.captcha-prompt:not(.hidden){flex-wrap:wrap;justify-content:center}}.pow-button{background-color:#0051c3;color:#fff;margin:2rem 0}.pow-button:hover{background-color:#003681;border-color:#003681;color:#fff}.footer{font-size:.75rem;line-height:1.125rem;margin:0 auto;max-width:60rem;width:100%}.footer-inner{border-top:1px solid #d9d9d9;padding-bottom:1rem;padding-top:1rem}.clearfix:after{clear:both;content:\"\";display:table}.clearfix .column{float:left;padding-right:1.5rem;width:50%}.diagnostic-wrapper{margin-bottom:.5rem}.footer .ray-id{text-align:center}.footer .ray-id code{font-family:monaco,courier,monospace}.core-msg,.zone-name-title{overflow-wrap:break-word}@media (width <= 720px){.diagnostic-wrapper{display:flex;flex-wrap:wrap;justify-content:center}.clearfix:after{clear:none;content:none;display:initial;text-align:center}.column{padding-bottom:2rem}.clearfix .column{float:none;padding:0;width:auto;word-break:keep-all}.zone-name-title{margin-bottom:1rem}}.loading-spinner{height:76.391px}.lds-ring{display:inline-block;position:relative}.lds-ring,.lds-ring div{height:1.875rem;width:1.875rem}.lds-ring div{animation:lds-ring 1.2s cubic-bezier(.5,0,.5,1) infinite;border:.3rem solid transparent;border-radius:50%;border-top-color:#313131;box-sizing:border-box;display:block;position:absolute}.lds-ring div:first-child{animation-delay:-.45s}.lds-ring div:nth-child(2){animation-delay:-.3s}.lds-ring div:nth-child(3){animation-delay:-.15s}@keyframes lds-ring{0%{transform:rotate(0)}to{transform:rotate(1turn)}}@media screen and (-ms-high-contrast:active),screen and (-ms-high-contrast:none){.main-wrapper,body{display:block}}</style><meta http-equiv=\"refresh\" content=\"375\"></head><body class=\"no-js\"><div class=\"main-wrapper\" role=\"main\"><div class=\"main-content\"><noscript><div id=\"challenge-error-title\"><div class=\"h2\"><span id=\"challenge-error-text\">Enable JavaScript and cookies to continue</span></div></div></noscript></div></div><script>(function(){window._cf_chl_opt={cvId: \\'3\\',cZone: \"commerces.roubaix.fr\",cType: \\'managed\\',cNounce: \\'52622\\',cRay: \\'8634a93dbb3a2a6f\\',cHash: \\'2578c29f5e18141\\',cUPMDTk: \"\\\\/annuaire\\\\/ville\\\\/roubaix-59\\\\/assurance?__cf_chl_tk=FCg4_svVG63uVNWlV.pmQPOTqLYcs1P7xCQ5J.OoagY-1710255702-0.0.1.1-1685\",cFPWv: \\'g\\',cTTimeMs: \\'1000\\',cMTimeMs: \\'375000\\',cTplV: 5,cTplB: \\'cf\\',cK: \"visitor-time\",fa: \"\\\\/annuaire\\\\/ville\\\\/roubaix-59\\\\/assurance?__cf_chl_f_tk=FCg4_svVG63uVNWlV.pmQPOTqLYcs1P7xCQ5J.OoagY-1710255702-0.0.1.1-1685\",md: \"h1KaU_Vq675t8E0E6q4Pq9p1nmYsmz0cD3BFVr5BJwE-1710255702-1.1.1.1-NRBKjW1m6jYALz.ULswksjLRQ6n6XhAo0xiCi9KQpX4Wr4OkuYG1t5TNo3lUXUV1cNPVMSOArxQlfxrewjINsClkTw8bIJxHeNwOAiA_aNyeE2ffSeGpXJS40tB6Ki4JsUHefl7TiyPozPM0dttfHA2mBWvPEELsyvAqoTkr7.0uvTxgw4ex.q96k6jB2IV8WpIetgmY6I9m0eqk4BegULkDXfOcQowUtFXXKjWjPCR3J9dOHwpNk_rpDvrh1wASOq.rlF18V2eDBomgBrmXFd.yYkomCz3N15ybqQ8GwIqTWyTfraXjnenEJLKC2Y7rs0kexyHlqMS9xDf4BUnigz4jYY_fvqpAnPIxOV_JOqpZogyiBjd_ULEP7fI6rvEf7nFsFrjVncYvYRBzi32OoELTUhuexPiO7VXDOmcvxKW5XvOOumlTAkSbb4Y9RlrskSzcO1rVk2LBl8ap_d_09StHhNpBvPalvsxfZohppwDABH2BqwejAjtKE8Se6pw0z69w5FqLuALZIgHyIxMEoLOo_Xi0.8EDbU8YPhIJUPhcJYWziyTPLH9J_yauddL563iYk1oRhJzEw90Pnxdkhr2IGjp1.IBs7mxUAdONFGRjrj9.QdZ0W1h9GduIXYak72CygfZ_uhux0Wh.c3IrHwIDx_b_X5yaH01y1aOoofA5EKu8lf3gkeBZpNLXwyQjPWzpvfFZQ857rCLySlYGD8no3Qr9xm8NKEA9azb5z8DZWxFaIFVVumvvWq2pHwA8Jl4Sl.KlipJ.BQ3pOM2uwfKp7FgXP_sE24skubi7U9UxQN0P8egzg40Uq.IWAZ9rXkiGy_8deg3oddApi41Tb3FiOeoDCQGnPXqWgYfSTjSmVL24HkINflj4FML9u6nurwizl7uOK6YqE5cT3dWfQf5W3dBVAPzdFgCuYt7_KSbrtrAWx2CCjHH86r6qGsVF.4ljwZ64f_0BHCdiV6Kypu6prOXbEzW1EyNwraaD50TJaJulN9Au9NFKnfpJJSO8iywgWN4UU6bntZTdIOh7jndUMkabaQSs91NQaVTmQ2EyWFuQz8Ua1oUgLwIW_N6syUDzlgCdeUZmP2REQZAZZMH4Uea2K5JOXND5XTJQETifapFfr3zr4bjyYwdr1EA9I6NJDkSj4VTH93aQGlRe6YNJuVIuEncshaFeVCfjmf2FnKGiXNxjAVkFHGVo0H9WnryqwczfJE57DWXpNTH1NtqA10uQHIHRf7d2YD2TkXjqhjOk3UTDazmR6wsCFNTaLVcFbTgMBj5kIKbHEyOlqDiFsX1vsvBnsAJifeGaLHaFT4l0VAK7WxcF9xM45tLREFM9AXs.psAeP8kqXqDaHDG9ZhM99OUXQvKB1RBT5m.Cu_bfFOVwZ4xzfC34KOtESObBrm.nZKhdcoGoBaCO2Vxy7BlldGX5U9tabKMJ37vdcQSDvaNqgqQgfpFkCye9_TmB2..69MKMeskvvRkxnzJ.8FkoRV4x0TtlrwP3S0ncgkcqSHtfM69nyVxNq8wKwUSbfFW9RI1U3K.XM22Q2.JjyS1tdpMfN07noexr78f0Vl3MynfKY3eVotFs_kn7IXxqesrwwEmZ1844PA04NQ\",mdrd: \"KjVr3DTeDCGRGpoR_6lweaKNeRmvrw6O7QahwQyf3Zw-1710255702-1.1.1.1-GOREaVSu2JlxvbweWql3p8fP5ufxQUYTyzT667I5wuthShqNz3_doQVQGJQMcyiABuEYx9p797Yfwy4qLWuRjkJZVCp3E8UQGYA.3xK6j1kDV8nIU9tO_tExs_GOkTfmcjeZ7cDjoCHMzk3_lKPqdD2VF2QOzzfHkM1GgFbYU2ObLplvPHyUsXkXtdGB7xz1wrH0HdLuFZ3h_23r_UZDv8t3s7gwgI1Nz4EC2DxXWF4dfrIMGXhncvPa0Epr6gP3Q3PK5YFxUSf9dYyu6v.uZhcVOumVbaESYbuWV6za1j_V_nocnc6XzZ6yw3mDardI1XkuJllpYp3cj4gvtDgIcO3UDMCGfpVOdin9AqVqQXyX5gGLY37d319Z.qwHxwImC7sTWs7RuTMhVrpKMOX8WmZhf9yvxOiU2NEjZ9sSr3C6YjzNrreEOgkm2YsjVzq9ylVipz90Zn_QJ4Skd6XOv_ftGG9p_QNXqoTiDSaBDQPFgetPYqU57lmxJSw2LqVuYrtdwGJJpmPy4lIdn3OduhcQTKJ.VITYoVRRVBTc3g8etHP0mka3EdiETWBTxlEQYy.zqyF_OoZdxSctBzt3q6ja3Iw9LnCxrsdcefrvTsx0V.g6yqkuWTz4hijmuZToHWNKH6ml8qyFZTMNJ5b1L5t0x2sMdKzk2aJLR4BOlPL13sl7dt8csdfpD9XluzlWfcLOk3s1cL2Lq0W_xg4piFwumYheA4i3e.jIuM9gL5LP1twM535JQ6.s6kRLVjGjVIHc7UBkZJ0CQQCHVKUg.LTQWIVob0iwranwCXHEh8RfLFsxM__XB7SwJbaL15CtM9s2kYy3dAiFvwW0619cPobpXkkAgqoqpz0VF_QvSw8Da.ktnv5bnVhQnfe_FHtXVvrbWPqAsTvbIGT6cBhPo_MS4nCpZIjKvMBz6bTuhAzm94nLFS5dmMbJrZXob7m.1bKX8_oCRL_UZ8y6mWZRaWzLHhw2X91UXwdPybC3wBXims9zRufm4oK6YMwBZQSE394tD5kzLF.tRuJpVdHuZcRLxNZDJahg.dUvXKGHzU7ruuLQTk71rOJL1xSfOLOfxKaF_.lYXH8AXnrKjwEaQxfSGSwaPI5YTvEry49ytucpmFCVjfoI1G98sNOi7Q8GHwXuulrOWO1LrioIwIWWiS8T3mhjvDh4_FXZNGDHDkl3fEqSOnzXC2Wa049Ha68w8Wj_375jrcIElCxy2IAbUbrGacqWAf201MUclVto.t1nFpun5liBfp7RwH73yKCqOZ7ihXPL8bJjUs_BeSm1Xy5PBmOqQN.CqDf1j.AFpHP4ssvQnxyp3wxBqjWzYMCjt_MR_ZM4qpWkwXfMaWlmJptiXqxH8Ss3pC14.xJpdFgLVHJhWDK2MgN6E5t4kZktt32xzslwe6MPdzk19pp_qtTZDtBhgMwzRgyEg_oJjexAmMDce1uu.DcHkXJi.4hpISj8DNzQIHOAjDjoz2CHLbTKz_ALz_OD6eS_Z0NY0VQvNxO9pgaw8j9KMrLUNBbhV8X9CIadDYPPCk1_U0qJCI3gTBaJjRSQI.maiYOgkPIIPGDlGCakHpUNCxTWZR5JjZ6hOjXN3W_rWKJaVsGLB8h3sx1_3dnbNM6KZ.q2afC5QlkokXHV6qbHQ2dhJzXUri_DtOpD9i.FV6einIQtUWPvlLn4YhHIFnp2zm7Kkmc0W8okwWum2tXK4xRwqIeyBak4Gkrcr1sI9F3JwTOs4EVwV7FRLzflStmVT5XelKeYYIVB7e54V.ZIwBG7uKJrzCvobWFFCp2kyVAYb.Y39Roc5y2gxFRVda1jJ8I5gH8E93C10shHTXy_Ahv0RpbrvWkuwq4QyPYqzm.DU4MGc.ltW7IsyahQ7vmsZBiA3cpZ3JuzjT8ZKLYjnYvXR6eOBtYEJSTok3ibpoQm1LUykkmNQVwyZcPwgCOCqdi9cqc\",cRq: {ru: \\'aHR0cHM6Ly9jb21tZXJjZXMucm91YmFpeC5mci9hbm51YWlyZS92aWxsZS9yb3ViYWl4LTU5L2Fzc3VyYW5jZQ==\\',ra: \\'cHl0aG9uLXJlcXVlc3RzLzIuMzEuMA==\\',rm: \\'R0VU\\',d: \\'IcYzTCdoON2quRK/E6LOV2Ufwkb0o/isUApyP/YPli8NKiF9wB2Vafcl7b1tVgfnHAcLBSLvzdFMY4dn4LQMcYCTZo7bU8RauUXPb9bH8wla2DO6Tgnr7Q314/YB8MHasNUUPNZ5Ho6YmwpnGQK3VCuDhuu/SZDcH42Jdhy3AZi3RfNe4Tbti3Tcs+5Ke9dzE9d2D2hS9hiSbeRIcTEdRSzsQb0h1vyVHS6q+BYlSfv6+2Aa/8nDIH+PY9zm2cTX343p8m7WQxx6FU1zspy1O/oABrRc1ay9B/v318SyuJ84UlPb2hHSLVpwhvF9jps5DWpwzstAsYkwY3DR9kis2xwsYaaOWFUrTvkcRJzLKq7uv1qO+Nh/TTthmwaVXqKN+q890pIwMZEKxXaMnmVrB+EblMY9fQdck6qrUnImgl5M9mH6tal63mSW/m4JDFPe5mexcjgTvqP4zn4l8+HTXkpoxlCQWpaQ+F9LR4oblKbq8vwG4UCmOLzmPqR81+82pk0FZbInBfMWXOMNY6K3+MpDaJfCtuiNlBa2p1oQef50EuUkhq2Szb+J8STzmQRt3GMmTrzB52oh9LFMWVBqBVscuiyXX30Emi6vgTCOPco=\\',t: \\'MTcxMDI1NTcwMi42NzcwMDA=\\',cT: Math.floor(Date.now() / 1000),m: \\'KgvgeDefJtPlVFdtcE6Ev6G5Zl8NRBiQdVpJou3K4j4=\\',i1: \\'c17002QZ9GUiJK0vVWnxPA==\\',i2: \\'+fkuW4PRyLPu4kvIEiVn1g==\\',zh: \\'5thLLqks4N1Fbidcu8MsATTfat1Itvt5T4U38Pjgi0k=\\',uh: \\'YE9XOpG5TeHmhA1zfs5mxC8CrRZzq2a/+r+OU7dliYQ=\\',hh: \\'skKzfvMvLG1FT4Mna8mGoBxmJC/qW4ZcJCT5VxRKKqY=\\',}};var cpo = document.createElement(\\'script\\');cpo.src = \\'/cdn-cgi/challenge-platform/h/g/orchestrate/chl_page/v1?ray=8634a93dbb3a2a6f\\';window._cf_chl_opt.cOgUHash = location.hash === \\'\\' && location.href.indexOf(\\'#\\') !== -1 ? \\'#\\' : location.hash;window._cf_chl_opt.cOgUQuery = location.search === \\'\\' && location.href.slice(0, location.href.length - window._cf_chl_opt.cOgUHash.length).indexOf(\\'?\\') !== -1 ? \\'?\\' : location.search;if (window.history && window.history.replaceState) {var ogU = location.pathname + window._cf_chl_opt.cOgUQuery + window._cf_chl_opt.cOgUHash;history.replaceState(null, null, \"\\\\/annuaire\\\\/ville\\\\/roubaix-59\\\\/assurance?__cf_chl_rt_tk=FCg4_svVG63uVNWlV.pmQPOTqLYcs1P7xCQ5J.OoagY-1710255702-0.0.1.1-1685\" + window._cf_chl_opt.cOgUHash);cpo.onload = function() {history.replaceState(null, null, ogU);}}document.getElementsByTagName(\\'head\\')[0].appendChild(cpo);}());</script></body></html>'"
      ]
     },
     "execution_count": 2,
     "metadata": {},
     "output_type": "execute_result"
    }
   ],
   "source": [
    "#page content\n",
    "import requests as rq\n",
    "req_page=rq.get('https://commerces.roubaix.fr/annuaire/ville/roubaix-59/assurance')\n",
    "page_content=req_page.content\n",
    "page_content"
   ]
  },
  {
   "cell_type": "code",
   "execution_count": 3,
   "metadata": {},
   "outputs": [
    {
     "data": {
      "text/plain": [
       "<!DOCTYPE html>\n",
       "<html lang=\"en-US\"><head><title>Just a moment...</title><meta content=\"text/html; charset=utf-8\" http-equiv=\"Content-Type\"/><meta content=\"IE=Edge\" http-equiv=\"X-UA-Compatible\"/><meta content=\"noindex,nofollow\" name=\"robots\"/><meta content=\"width=device-width,initial-scale=1\" name=\"viewport\"/><style>*{box-sizing:border-box;margin:0;padding:0}html{line-height:1.15;-webkit-text-size-adjust:100%;color:#313131}button,html{font-family:system-ui,-apple-system,BlinkMacSystemFont,Segoe UI,Roboto,Helvetica Neue,Arial,Noto Sans,sans-serif,Apple Color Emoji,Segoe UI Emoji,Segoe UI Symbol,Noto Color Emoji}@media (prefers-color-scheme:dark){body{background-color:#222;color:#d9d9d9}body a{color:#fff}body a:hover{color:#ee730a;text-decoration:underline}body .lds-ring div{border-color:#999 transparent transparent}body .font-red{color:#b20f03}body .big-button,body .pow-button{background-color:#4693ff;color:#1d1d1d}body #challenge-success-text{background-image:url(data:image/svg+xml;base64,PHN2ZyB4bWxucz0iaHR0cDovL3d3dy53My5vcmcvMjAwMC9zdmciIHdpZHRoPSIzMiIgaGVpZ2h0PSIzMiIgZmlsbD0ibm9uZSIgdmlld0JveD0iMCAwIDI2IDI2Ij48cGF0aCBmaWxsPSIjZDlkOWQ5IiBkPSJNMTMgMGExMyAxMyAwIDEgMCAwIDI2IDEzIDEzIDAgMCAwIDAtMjZtMCAyNGExMSAxMSAwIDEgMSAwLTIyIDExIDExIDAgMCAxIDAgMjIiLz48cGF0aCBmaWxsPSIjZDlkOWQ5IiBkPSJtMTAuOTU1IDE2LjA1NS0zLjk1LTQuMTI1LTEuNDQ1IDEuMzg1IDUuMzcgNS42MSA5LjQ5NS05LjYtMS40Mi0xLjQwNXoiLz48L3N2Zz4=)}body #challenge-error-text{background-image:url(data:image/svg+xml;base64,PHN2ZyB4bWxucz0iaHR0cDovL3d3dy53My5vcmcvMjAwMC9zdmciIHdpZHRoPSIzMiIgaGVpZ2h0PSIzMiIgZmlsbD0ibm9uZSI+PHBhdGggZmlsbD0iI0IyMEYwMyIgZD0iTTE2IDNhMTMgMTMgMCAxIDAgMTMgMTNBMTMuMDE1IDEzLjAxNSAwIDAgMCAxNiAzbTAgMjRhMTEgMTEgMCAxIDEgMTEtMTEgMTEuMDEgMTEuMDEgMCAwIDEtMTEgMTEiLz48cGF0aCBmaWxsPSIjQjIwRjAzIiBkPSJNMTcuMDM4IDE4LjYxNUgxNC44N0wxNC41NjMgOS41aDIuNzgzem0tMS4wODQgMS40MjdxLjY2IDAgMS4wNTcuMzg4LjQwNy4zODkuNDA3Ljk5NCAwIC41OTYtLjQwNy45ODQtLjM5Ny4zOS0xLjA1Ny4zODktLjY1IDAtMS4wNTYtLjM4OS0uMzk4LS4zODktLjM5OC0uOTg0IDAtLjU5Ny4zOTgtLjk4NS40MDYtLjM5NyAxLjA1Ni0uMzk3Ii8+PC9zdmc+)}}body{display:flex;flex-direction:column;min-height:100vh}body.no-js .loading-spinner{visibility:hidden}body.no-js .challenge-running{display:none}body.dark{background-color:#222;color:#d9d9d9}body.dark a{color:#fff}body.dark a:hover{color:#ee730a;text-decoration:underline}body.dark .lds-ring div{border-color:#999 transparent transparent}body.dark .font-red{color:#b20f03}body.dark .big-button,body.dark .pow-button{background-color:#4693ff;color:#1d1d1d}body.dark #challenge-success-text{background-image:url(data:image/svg+xml;base64,PHN2ZyB4bWxucz0iaHR0cDovL3d3dy53My5vcmcvMjAwMC9zdmciIHdpZHRoPSIzMiIgaGVpZ2h0PSIzMiIgZmlsbD0ibm9uZSIgdmlld0JveD0iMCAwIDI2IDI2Ij48cGF0aCBmaWxsPSIjZDlkOWQ5IiBkPSJNMTMgMGExMyAxMyAwIDEgMCAwIDI2IDEzIDEzIDAgMCAwIDAtMjZtMCAyNGExMSAxMSAwIDEgMSAwLTIyIDExIDExIDAgMCAxIDAgMjIiLz48cGF0aCBmaWxsPSIjZDlkOWQ5IiBkPSJtMTAuOTU1IDE2LjA1NS0zLjk1LTQuMTI1LTEuNDQ1IDEuMzg1IDUuMzcgNS42MSA5LjQ5NS05LjYtMS40Mi0xLjQwNXoiLz48L3N2Zz4=)}body.dark #challenge-error-text{background-image:url(data:image/svg+xml;base64,PHN2ZyB4bWxucz0iaHR0cDovL3d3dy53My5vcmcvMjAwMC9zdmciIHdpZHRoPSIzMiIgaGVpZ2h0PSIzMiIgZmlsbD0ibm9uZSI+PHBhdGggZmlsbD0iI0IyMEYwMyIgZD0iTTE2IDNhMTMgMTMgMCAxIDAgMTMgMTNBMTMuMDE1IDEzLjAxNSAwIDAgMCAxNiAzbTAgMjRhMTEgMTEgMCAxIDEgMTEtMTEgMTEuMDEgMTEuMDEgMCAwIDEtMTEgMTEiLz48cGF0aCBmaWxsPSIjQjIwRjAzIiBkPSJNMTcuMDM4IDE4LjYxNUgxNC44N0wxNC41NjMgOS41aDIuNzgzem0tMS4wODQgMS40MjdxLjY2IDAgMS4wNTcuMzg4LjQwNy4zODkuNDA3Ljk5NCAwIC41OTYtLjQwNy45ODQtLjM5Ny4zOS0xLjA1Ny4zODktLjY1IDAtMS4wNTYtLjM4OS0uMzk4LS4zODktLjM5OC0uOTg0IDAtLjU5Ny4zOTgtLjk4NS40MDYtLjM5NyAxLjA1Ni0uMzk3Ii8+PC9zdmc+)}body.light{background-color:transparent;color:#313131}body.light a{color:#0051c3}body.light a:hover{color:#ee730a;text-decoration:underline}body.light .lds-ring div{border-color:#595959 transparent transparent}body.light .font-red{color:#fc574a}body.light .big-button,body.light .pow-button{background-color:#003681;border-color:#003681;color:#fff}body.light #challenge-success-text{background-image:url(data:image/svg+xml;base64,PHN2ZyB4bWxucz0iaHR0cDovL3d3dy53My5vcmcvMjAwMC9zdmciIHdpZHRoPSIzMiIgaGVpZ2h0PSIzMiIgZmlsbD0ibm9uZSIgdmlld0JveD0iMCAwIDI2IDI2Ij48cGF0aCBmaWxsPSIjMzEzMTMxIiBkPSJNMTMgMGExMyAxMyAwIDEgMCAwIDI2IDEzIDEzIDAgMCAwIDAtMjZtMCAyNGExMSAxMSAwIDEgMSAwLTIyIDExIDExIDAgMCAxIDAgMjIiLz48cGF0aCBmaWxsPSIjMzEzMTMxIiBkPSJtMTAuOTU1IDE2LjA1NS0zLjk1LTQuMTI1LTEuNDQ1IDEuMzg1IDUuMzcgNS42MSA5LjQ5NS05LjYtMS40Mi0xLjQwNXoiLz48L3N2Zz4=)}body.light #challenge-error-text{background-image:url(data:image/svg+xml;base64,PHN2ZyB4bWxucz0iaHR0cDovL3d3dy53My5vcmcvMjAwMC9zdmciIHdpZHRoPSIzMiIgaGVpZ2h0PSIzMiIgZmlsbD0ibm9uZSI+PHBhdGggZmlsbD0iI2ZjNTc0YSIgZD0iTTE2IDNhMTMgMTMgMCAxIDAgMTMgMTNBMTMuMDE1IDEzLjAxNSAwIDAgMCAxNiAzbTAgMjRhMTEgMTEgMCAxIDEgMTEtMTEgMTEuMDEgMTEuMDEgMCAwIDEtMTEgMTEiLz48cGF0aCBmaWxsPSIjZmM1NzRhIiBkPSJNMTcuMDM4IDE4LjYxNUgxNC44N0wxNC41NjMgOS41aDIuNzgzem0tMS4wODQgMS40MjdxLjY2IDAgMS4wNTcuMzg4LjQwNy4zODkuNDA3Ljk5NCAwIC41OTYtLjQwNy45ODQtLjM5Ny4zOS0xLjA1Ny4zODktLjY1IDAtMS4wNTYtLjM4OS0uMzk4LS4zODktLjM5OC0uOTg0IDAtLjU5Ny4zOTgtLjk4NS40MDYtLjM5NyAxLjA1Ni0uMzk3Ii8+PC9zdmc+)}a{background-color:transparent;color:#0051c3;text-decoration:none;transition:color .15s ease}a:hover{color:#ee730a;text-decoration:underline}.main-content{margin:8rem auto;max-width:60rem;width:100%}.heading-favicon{height:2rem;margin-right:.5rem;width:2rem}@media (width <= 720px){.main-content{margin-top:4rem}.heading-favicon{height:1.5rem;width:1.5rem}}.footer,.main-content{padding-left:1.5rem;padding-right:1.5rem}.main-wrapper{align-items:center;display:flex;flex:1;flex-direction:column}.font-red{color:#b20f03}.spacer{margin:2rem 0}.h1{font-size:2.5rem;font-weight:500;line-height:3.75rem}.h2{font-weight:500}.core-msg,.h2{font-size:1.5rem;line-height:2.25rem}.body-text,.core-msg{font-weight:400}.body-text{font-size:1rem;line-height:1.25rem}@media (width <= 720px){.h1{font-size:1.5rem;line-height:1.75rem}.h2{font-size:1.25rem}.core-msg,.h2{line-height:1.5rem}.core-msg{font-size:1rem}}#challenge-error-text{background-image:url(data:image/svg+xml;base64,PHN2ZyB4bWxucz0iaHR0cDovL3d3dy53My5vcmcvMjAwMC9zdmciIHdpZHRoPSIzMiIgaGVpZ2h0PSIzMiIgZmlsbD0ibm9uZSI+PHBhdGggZmlsbD0iI2ZjNTc0YSIgZD0iTTE2IDNhMTMgMTMgMCAxIDAgMTMgMTNBMTMuMDE1IDEzLjAxNSAwIDAgMCAxNiAzbTAgMjRhMTEgMTEgMCAxIDEgMTEtMTEgMTEuMDEgMTEuMDEgMCAwIDEtMTEgMTEiLz48cGF0aCBmaWxsPSIjZmM1NzRhIiBkPSJNMTcuMDM4IDE4LjYxNUgxNC44N0wxNC41NjMgOS41aDIuNzgzem0tMS4wODQgMS40MjdxLjY2IDAgMS4wNTcuMzg4LjQwNy4zODkuNDA3Ljk5NCAwIC41OTYtLjQwNy45ODQtLjM5Ny4zOS0xLjA1Ny4zODktLjY1IDAtMS4wNTYtLjM4OS0uMzk4LS4zODktLjM5OC0uOTg0IDAtLjU5Ny4zOTgtLjk4NS40MDYtLjM5NyAxLjA1Ni0uMzk3Ii8+PC9zdmc+);padding-left:34px}#challenge-error-text,#challenge-success-text{background-repeat:no-repeat;background-size:contain}#challenge-success-text{background-image:url(data:image/svg+xml;base64,PHN2ZyB4bWxucz0iaHR0cDovL3d3dy53My5vcmcvMjAwMC9zdmciIHdpZHRoPSIzMiIgaGVpZ2h0PSIzMiIgZmlsbD0ibm9uZSIgdmlld0JveD0iMCAwIDI2IDI2Ij48cGF0aCBmaWxsPSIjMzEzMTMxIiBkPSJNMTMgMGExMyAxMyAwIDEgMCAwIDI2IDEzIDEzIDAgMCAwIDAtMjZtMCAyNGExMSAxMSAwIDEgMSAwLTIyIDExIDExIDAgMCAxIDAgMjIiLz48cGF0aCBmaWxsPSIjMzEzMTMxIiBkPSJtMTAuOTU1IDE2LjA1NS0zLjk1LTQuMTI1LTEuNDQ1IDEuMzg1IDUuMzcgNS42MSA5LjQ5NS05LjYtMS40Mi0xLjQwNXoiLz48L3N2Zz4=);padding-left:42px}.text-center{text-align:center}.big-button{border:.063rem solid #0051c3;border-radius:.313rem;font-size:.875rem;line-height:1.313rem;padding:.375rem 1rem;transition-duration:.2s;transition-property:background-color,border-color,color;transition-timing-function:ease}.big-button:hover{cursor:pointer}.captcha-prompt:not(.hidden){display:flex}@media (width <= 720px){.captcha-prompt:not(.hidden){flex-wrap:wrap;justify-content:center}}.pow-button{background-color:#0051c3;color:#fff;margin:2rem 0}.pow-button:hover{background-color:#003681;border-color:#003681;color:#fff}.footer{font-size:.75rem;line-height:1.125rem;margin:0 auto;max-width:60rem;width:100%}.footer-inner{border-top:1px solid #d9d9d9;padding-bottom:1rem;padding-top:1rem}.clearfix:after{clear:both;content:\"\";display:table}.clearfix .column{float:left;padding-right:1.5rem;width:50%}.diagnostic-wrapper{margin-bottom:.5rem}.footer .ray-id{text-align:center}.footer .ray-id code{font-family:monaco,courier,monospace}.core-msg,.zone-name-title{overflow-wrap:break-word}@media (width <= 720px){.diagnostic-wrapper{display:flex;flex-wrap:wrap;justify-content:center}.clearfix:after{clear:none;content:none;display:initial;text-align:center}.column{padding-bottom:2rem}.clearfix .column{float:none;padding:0;width:auto;word-break:keep-all}.zone-name-title{margin-bottom:1rem}}.loading-spinner{height:76.391px}.lds-ring{display:inline-block;position:relative}.lds-ring,.lds-ring div{height:1.875rem;width:1.875rem}.lds-ring div{animation:lds-ring 1.2s cubic-bezier(.5,0,.5,1) infinite;border:.3rem solid transparent;border-radius:50%;border-top-color:#313131;box-sizing:border-box;display:block;position:absolute}.lds-ring div:first-child{animation-delay:-.45s}.lds-ring div:nth-child(2){animation-delay:-.3s}.lds-ring div:nth-child(3){animation-delay:-.15s}@keyframes lds-ring{0%{transform:rotate(0)}to{transform:rotate(1turn)}}@media screen and (-ms-high-contrast:active),screen and (-ms-high-contrast:none){.main-wrapper,body{display:block}}</style><meta content=\"375\" http-equiv=\"refresh\"/></head><body class=\"no-js\"><div class=\"main-wrapper\" role=\"main\"><div class=\"main-content\"><noscript><div id=\"challenge-error-title\"><div class=\"h2\"><span id=\"challenge-error-text\">Enable JavaScript and cookies to continue</span></div></div></noscript></div></div><script>(function(){window._cf_chl_opt={cvId: '3',cZone: \"commerces.roubaix.fr\",cType: 'managed',cNounce: '52622',cRay: '8634a93dbb3a2a6f',cHash: '2578c29f5e18141',cUPMDTk: \"\\/annuaire\\/ville\\/roubaix-59\\/assurance?__cf_chl_tk=FCg4_svVG63uVNWlV.pmQPOTqLYcs1P7xCQ5J.OoagY-1710255702-0.0.1.1-1685\",cFPWv: 'g',cTTimeMs: '1000',cMTimeMs: '375000',cTplV: 5,cTplB: 'cf',cK: \"visitor-time\",fa: \"\\/annuaire\\/ville\\/roubaix-59\\/assurance?__cf_chl_f_tk=FCg4_svVG63uVNWlV.pmQPOTqLYcs1P7xCQ5J.OoagY-1710255702-0.0.1.1-1685\",md: \"h1KaU_Vq675t8E0E6q4Pq9p1nmYsmz0cD3BFVr5BJwE-1710255702-1.1.1.1-NRBKjW1m6jYALz.ULswksjLRQ6n6XhAo0xiCi9KQpX4Wr4OkuYG1t5TNo3lUXUV1cNPVMSOArxQlfxrewjINsClkTw8bIJxHeNwOAiA_aNyeE2ffSeGpXJS40tB6Ki4JsUHefl7TiyPozPM0dttfHA2mBWvPEELsyvAqoTkr7.0uvTxgw4ex.q96k6jB2IV8WpIetgmY6I9m0eqk4BegULkDXfOcQowUtFXXKjWjPCR3J9dOHwpNk_rpDvrh1wASOq.rlF18V2eDBomgBrmXFd.yYkomCz3N15ybqQ8GwIqTWyTfraXjnenEJLKC2Y7rs0kexyHlqMS9xDf4BUnigz4jYY_fvqpAnPIxOV_JOqpZogyiBjd_ULEP7fI6rvEf7nFsFrjVncYvYRBzi32OoELTUhuexPiO7VXDOmcvxKW5XvOOumlTAkSbb4Y9RlrskSzcO1rVk2LBl8ap_d_09StHhNpBvPalvsxfZohppwDABH2BqwejAjtKE8Se6pw0z69w5FqLuALZIgHyIxMEoLOo_Xi0.8EDbU8YPhIJUPhcJYWziyTPLH9J_yauddL563iYk1oRhJzEw90Pnxdkhr2IGjp1.IBs7mxUAdONFGRjrj9.QdZ0W1h9GduIXYak72CygfZ_uhux0Wh.c3IrHwIDx_b_X5yaH01y1aOoofA5EKu8lf3gkeBZpNLXwyQjPWzpvfFZQ857rCLySlYGD8no3Qr9xm8NKEA9azb5z8DZWxFaIFVVumvvWq2pHwA8Jl4Sl.KlipJ.BQ3pOM2uwfKp7FgXP_sE24skubi7U9UxQN0P8egzg40Uq.IWAZ9rXkiGy_8deg3oddApi41Tb3FiOeoDCQGnPXqWgYfSTjSmVL24HkINflj4FML9u6nurwizl7uOK6YqE5cT3dWfQf5W3dBVAPzdFgCuYt7_KSbrtrAWx2CCjHH86r6qGsVF.4ljwZ64f_0BHCdiV6Kypu6prOXbEzW1EyNwraaD50TJaJulN9Au9NFKnfpJJSO8iywgWN4UU6bntZTdIOh7jndUMkabaQSs91NQaVTmQ2EyWFuQz8Ua1oUgLwIW_N6syUDzlgCdeUZmP2REQZAZZMH4Uea2K5JOXND5XTJQETifapFfr3zr4bjyYwdr1EA9I6NJDkSj4VTH93aQGlRe6YNJuVIuEncshaFeVCfjmf2FnKGiXNxjAVkFHGVo0H9WnryqwczfJE57DWXpNTH1NtqA10uQHIHRf7d2YD2TkXjqhjOk3UTDazmR6wsCFNTaLVcFbTgMBj5kIKbHEyOlqDiFsX1vsvBnsAJifeGaLHaFT4l0VAK7WxcF9xM45tLREFM9AXs.psAeP8kqXqDaHDG9ZhM99OUXQvKB1RBT5m.Cu_bfFOVwZ4xzfC34KOtESObBrm.nZKhdcoGoBaCO2Vxy7BlldGX5U9tabKMJ37vdcQSDvaNqgqQgfpFkCye9_TmB2..69MKMeskvvRkxnzJ.8FkoRV4x0TtlrwP3S0ncgkcqSHtfM69nyVxNq8wKwUSbfFW9RI1U3K.XM22Q2.JjyS1tdpMfN07noexr78f0Vl3MynfKY3eVotFs_kn7IXxqesrwwEmZ1844PA04NQ\",mdrd: \"KjVr3DTeDCGRGpoR_6lweaKNeRmvrw6O7QahwQyf3Zw-1710255702-1.1.1.1-GOREaVSu2JlxvbweWql3p8fP5ufxQUYTyzT667I5wuthShqNz3_doQVQGJQMcyiABuEYx9p797Yfwy4qLWuRjkJZVCp3E8UQGYA.3xK6j1kDV8nIU9tO_tExs_GOkTfmcjeZ7cDjoCHMzk3_lKPqdD2VF2QOzzfHkM1GgFbYU2ObLplvPHyUsXkXtdGB7xz1wrH0HdLuFZ3h_23r_UZDv8t3s7gwgI1Nz4EC2DxXWF4dfrIMGXhncvPa0Epr6gP3Q3PK5YFxUSf9dYyu6v.uZhcVOumVbaESYbuWV6za1j_V_nocnc6XzZ6yw3mDardI1XkuJllpYp3cj4gvtDgIcO3UDMCGfpVOdin9AqVqQXyX5gGLY37d319Z.qwHxwImC7sTWs7RuTMhVrpKMOX8WmZhf9yvxOiU2NEjZ9sSr3C6YjzNrreEOgkm2YsjVzq9ylVipz90Zn_QJ4Skd6XOv_ftGG9p_QNXqoTiDSaBDQPFgetPYqU57lmxJSw2LqVuYrtdwGJJpmPy4lIdn3OduhcQTKJ.VITYoVRRVBTc3g8etHP0mka3EdiETWBTxlEQYy.zqyF_OoZdxSctBzt3q6ja3Iw9LnCxrsdcefrvTsx0V.g6yqkuWTz4hijmuZToHWNKH6ml8qyFZTMNJ5b1L5t0x2sMdKzk2aJLR4BOlPL13sl7dt8csdfpD9XluzlWfcLOk3s1cL2Lq0W_xg4piFwumYheA4i3e.jIuM9gL5LP1twM535JQ6.s6kRLVjGjVIHc7UBkZJ0CQQCHVKUg.LTQWIVob0iwranwCXHEh8RfLFsxM__XB7SwJbaL15CtM9s2kYy3dAiFvwW0619cPobpXkkAgqoqpz0VF_QvSw8Da.ktnv5bnVhQnfe_FHtXVvrbWPqAsTvbIGT6cBhPo_MS4nCpZIjKvMBz6bTuhAzm94nLFS5dmMbJrZXob7m.1bKX8_oCRL_UZ8y6mWZRaWzLHhw2X91UXwdPybC3wBXims9zRufm4oK6YMwBZQSE394tD5kzLF.tRuJpVdHuZcRLxNZDJahg.dUvXKGHzU7ruuLQTk71rOJL1xSfOLOfxKaF_.lYXH8AXnrKjwEaQxfSGSwaPI5YTvEry49ytucpmFCVjfoI1G98sNOi7Q8GHwXuulrOWO1LrioIwIWWiS8T3mhjvDh4_FXZNGDHDkl3fEqSOnzXC2Wa049Ha68w8Wj_375jrcIElCxy2IAbUbrGacqWAf201MUclVto.t1nFpun5liBfp7RwH73yKCqOZ7ihXPL8bJjUs_BeSm1Xy5PBmOqQN.CqDf1j.AFpHP4ssvQnxyp3wxBqjWzYMCjt_MR_ZM4qpWkwXfMaWlmJptiXqxH8Ss3pC14.xJpdFgLVHJhWDK2MgN6E5t4kZktt32xzslwe6MPdzk19pp_qtTZDtBhgMwzRgyEg_oJjexAmMDce1uu.DcHkXJi.4hpISj8DNzQIHOAjDjoz2CHLbTKz_ALz_OD6eS_Z0NY0VQvNxO9pgaw8j9KMrLUNBbhV8X9CIadDYPPCk1_U0qJCI3gTBaJjRSQI.maiYOgkPIIPGDlGCakHpUNCxTWZR5JjZ6hOjXN3W_rWKJaVsGLB8h3sx1_3dnbNM6KZ.q2afC5QlkokXHV6qbHQ2dhJzXUri_DtOpD9i.FV6einIQtUWPvlLn4YhHIFnp2zm7Kkmc0W8okwWum2tXK4xRwqIeyBak4Gkrcr1sI9F3JwTOs4EVwV7FRLzflStmVT5XelKeYYIVB7e54V.ZIwBG7uKJrzCvobWFFCp2kyVAYb.Y39Roc5y2gxFRVda1jJ8I5gH8E93C10shHTXy_Ahv0RpbrvWkuwq4QyPYqzm.DU4MGc.ltW7IsyahQ7vmsZBiA3cpZ3JuzjT8ZKLYjnYvXR6eOBtYEJSTok3ibpoQm1LUykkmNQVwyZcPwgCOCqdi9cqc\",cRq: {ru: 'aHR0cHM6Ly9jb21tZXJjZXMucm91YmFpeC5mci9hbm51YWlyZS92aWxsZS9yb3ViYWl4LTU5L2Fzc3VyYW5jZQ==',ra: 'cHl0aG9uLXJlcXVlc3RzLzIuMzEuMA==',rm: 'R0VU',d: 'IcYzTCdoON2quRK/E6LOV2Ufwkb0o/isUApyP/YPli8NKiF9wB2Vafcl7b1tVgfnHAcLBSLvzdFMY4dn4LQMcYCTZo7bU8RauUXPb9bH8wla2DO6Tgnr7Q314/YB8MHasNUUPNZ5Ho6YmwpnGQK3VCuDhuu/SZDcH42Jdhy3AZi3RfNe4Tbti3Tcs+5Ke9dzE9d2D2hS9hiSbeRIcTEdRSzsQb0h1vyVHS6q+BYlSfv6+2Aa/8nDIH+PY9zm2cTX343p8m7WQxx6FU1zspy1O/oABrRc1ay9B/v318SyuJ84UlPb2hHSLVpwhvF9jps5DWpwzstAsYkwY3DR9kis2xwsYaaOWFUrTvkcRJzLKq7uv1qO+Nh/TTthmwaVXqKN+q890pIwMZEKxXaMnmVrB+EblMY9fQdck6qrUnImgl5M9mH6tal63mSW/m4JDFPe5mexcjgTvqP4zn4l8+HTXkpoxlCQWpaQ+F9LR4oblKbq8vwG4UCmOLzmPqR81+82pk0FZbInBfMWXOMNY6K3+MpDaJfCtuiNlBa2p1oQef50EuUkhq2Szb+J8STzmQRt3GMmTrzB52oh9LFMWVBqBVscuiyXX30Emi6vgTCOPco=',t: 'MTcxMDI1NTcwMi42NzcwMDA=',cT: Math.floor(Date.now() / 1000),m: 'KgvgeDefJtPlVFdtcE6Ev6G5Zl8NRBiQdVpJou3K4j4=',i1: 'c17002QZ9GUiJK0vVWnxPA==',i2: '+fkuW4PRyLPu4kvIEiVn1g==',zh: '5thLLqks4N1Fbidcu8MsATTfat1Itvt5T4U38Pjgi0k=',uh: 'YE9XOpG5TeHmhA1zfs5mxC8CrRZzq2a/+r+OU7dliYQ=',hh: 'skKzfvMvLG1FT4Mna8mGoBxmJC/qW4ZcJCT5VxRKKqY=',}};var cpo = document.createElement('script');cpo.src = '/cdn-cgi/challenge-platform/h/g/orchestrate/chl_page/v1?ray=8634a93dbb3a2a6f';window._cf_chl_opt.cOgUHash = location.hash === '' && location.href.indexOf('#') !== -1 ? '#' : location.hash;window._cf_chl_opt.cOgUQuery = location.search === '' && location.href.slice(0, location.href.length - window._cf_chl_opt.cOgUHash.length).indexOf('?') !== -1 ? '?' : location.search;if (window.history && window.history.replaceState) {var ogU = location.pathname + window._cf_chl_opt.cOgUQuery + window._cf_chl_opt.cOgUHash;history.replaceState(null, null, \"\\/annuaire\\/ville\\/roubaix-59\\/assurance?__cf_chl_rt_tk=FCg4_svVG63uVNWlV.pmQPOTqLYcs1P7xCQ5J.OoagY-1710255702-0.0.1.1-1685\" + window._cf_chl_opt.cOgUHash);cpo.onload = function() {history.replaceState(null, null, ogU);}}document.getElementsByTagName('head')[0].appendChild(cpo);}());</script></body></html>"
      ]
     },
     "execution_count": 3,
     "metadata": {},
     "output_type": "execute_result"
    }
   ],
   "source": [
    "#Beautifulsoup\n",
    "from bs4 import BeautifulSoup\n",
    "page_bs = BeautifulSoup(page_content, 'html.parser')\n",
    "page_bs"
   ]
  },
  {
   "cell_type": "code",
   "execution_count": 4,
   "metadata": {},
   "outputs": [
    {
     "data": {
      "text/plain": [
       "[]"
      ]
     },
     "execution_count": 4,
     "metadata": {},
     "output_type": "execute_result"
    }
   ],
   "source": [
    "Names = page_bs.find_all('h2', class_=['h4'])\n",
    "Names"
   ]
  },
  {
   "cell_type": "markdown",
   "metadata": {},
   "source": [
    "SELENIUM\n"
   ]
  },
  {
   "cell_type": "code",
   "execution_count": 5,
   "metadata": {},
   "outputs": [],
   "source": [
    "\n",
    "import selenium \n",
    "from selenium import webdriver\n",
    "#import packages dynamic scraping\n",
    "from selenium.webdriver.common.by import By\n",
    "from selenium.webdriver.common.keys import Keys\n",
    "\n",
    "\n"
   ]
  },
  {
   "cell_type": "code",
   "execution_count": 1,
   "metadata": {},
   "outputs": [
    {
     "name": "stdout",
     "output_type": "stream",
     "text": [
      "['Swiss life', 'Matmut', 'Macif assurances', 'Transparence courtage sarl', 'Cap catoire assurances prevoyance', 'Assu 2000', 'Gan assurances heuls stéphane agent général', 'Wack-bessot laurence', 'Gesco assurances santé', 'Debus olivier', 'Axa delebecque olivier agent général', 'Ox6gen assurances', 'Axa a2p martins olivier-arnaud agent général', 'Allianz delesalle christian agent général', 'Fenix solutions']\n",
      "['1 R Mar De Lattre De Tassigny', '19 Grande Rue', '50 Grande Rue', '20 Pl Liberté', '24 Bd Belfort', '61 Bd Gén Leclerc', '678 Av Nations Unies', '9 R Grand Chemin', '57 Av Jean Baptiste Lebas', '14 R Coq Français', '63 Av Jean Baptiste Lebas', '565 R Lannoy', '43 R Charlie Chaplin', '43 R Mar Foch', 'R Isabeau De Roubaix']\n",
      "['1 R Mar De Lattre De Tassigny', '19 Grande Rue', '50 Grande Rue', '20 Pl Liberté', '24 Bd Belfort', '61 Bd Gén Leclerc', '678 Av Nations Unies', '9 R Grand Chemin', '57 Av Jean Baptiste Lebas', '14 R Coq Français', '63 Av Jean Baptiste Lebas', '565 R Lannoy', '43 R Charlie Chaplin', '43 R Mar Foch', 'R Isabeau De Roubaix']\n"
     ]
    }
   ],
   "source": [
    "from selenium import webdriver\n",
    "from selenium.webdriver.common.by import By\n",
    "from selenium.webdriver.chrome.service import Service\n",
    "from selenium.webdriver.chrome.options import Options\n",
    "from selenium.webdriver.support.ui import WebDriverWait\n",
    "from selenium.webdriver.support import expected_conditions as EC\n",
    "from selenium.common.exceptions import TimeoutException, WebDriverException, NoSuchElementException\n",
    "\n",
    "try:\n",
    "    # Initialize WebDriver\n",
    "    service = Service()\n",
    "    options = webdriver.ChromeOptions()\n",
    "    driver = webdriver.Chrome(service=service, options=options)\n",
    "\n",
    "    # Other actions...\n",
    "    driver.get('https://commerces.roubaix.fr/annuaire/ville/roubaix-59/assurance')\n",
    "\n",
    "    # Wait for the elements to be visible\n",
    "    elements_loaded = WebDriverWait(driver, 20).until(\n",
    "        EC.visibility_of_all_elements_located((By.CSS_SELECTOR, 'h2.h4'))\n",
    "    )\n",
    "\n",
    "    # Fetch and print the text of the elements\n",
    "    titles = [h2Elt.text for h2Elt in elements_loaded]\n",
    "    print(titles)\n",
    "\n",
    "    # Fetch and print the text of the address\n",
    "    elements_addresses = driver.find_elements(By.CSS_SELECTOR, 'address.bi_adress > p:first-child' )\n",
    "    addresses = [address.text for address in elements_addresses]\n",
    "    print(addresses)\n",
    "\n",
    "    elements_cities= driver.find_elements(By.CSS_SELECTOR, 'address.bi_adress > p:nth-child(2)' )\n",
    "    cities = [citie.text for citie in elements_cities]\n",
    "    print(addresses)\n",
    "\n",
    "\n",
    "\n",
    "except TimeoutException as te:\n",
    "    print(f\"TimeoutException: {te}\")\n",
    "    # Handle timeout exception\n",
    "except WebDriverException as wde:\n",
    "    print(f\"WebDriverException: {wde}\")\n",
    "    # Handle WebDriver related exception\n",
    "except NoSuchElementException as nse:\n",
    "    print(f\"NoSuchElementException: {nse}\")\n",
    "    # Handle NoSuchElementException\n",
    "except Exception as ex:\n",
    "    print(f\"An unexpected exception occurred: {ex}\")\n",
    "    # Handle other exceptions\n",
    "\n",
    "finally:\n",
    "    # Close the browser window in the finally block to ensure it's closed even if an exception occurs\n",
    "    if 'driver' in locals() and driver is not None:\n",
    "        driver.quit()\n",
    "\n"
   ]
  },
  {
   "cell_type": "code",
   "execution_count": 3,
   "metadata": {},
   "outputs": [
    {
     "name": "stdout",
     "output_type": "stream",
     "text": [
      "['Swiss life', 'Macif assurances', 'Matmut', 'Axa a2p martins olivier-arnaud agent général', 'Assu 2000', 'Axa d\"hulst thierry agent général', 'Debus olivier', 'Axa delebecque olivier agent général', 'Wack-bessot laurence', 'Gan assurances heuls stéphane agent général', 'Transparence courtage sarl', 'Allianz delesalle christian agent général', 'Cap catoire assurances prevoyance', 'Fenix solutions', 'Ox6gen assurances']\n",
      "['1 R Mar De Lattre De Tassigny', '50 Grande Rue', '19 Grande Rue', '43 R Charlie Chaplin', '61 Bd Gén Leclerc', '4 Bd Reims', '14 R Coq Français', '63 Av Jean Baptiste Lebas', '9 R Grand Chemin', '678 Av Nations Unies', '20 Pl Liberté', '43 R Mar Foch', '24 Bd Belfort', 'R Isabeau De Roubaix', '565 R Lannoy']\n",
      "['Swiss life', 'Transparence courtage sarl', 'Matmut', 'Fenix solutions', 'Macif assurances', 'Allianz delesalle christian agent général', 'Axa a2p martins olivier-arnaud agent général', 'Gan assurances heuls stéphane agent général', 'Debus olivier', 'Gmf assurances']\n",
      "['1 R Mar De Lattre De Tassigny', '20 Pl Liberté', '19 Grande Rue', 'R Isabeau De Roubaix', '50 Grande Rue', '43 R Mar Foch', '43 R Charlie Chaplin', '678 Av Nations Unies', '14 R Coq Français', '56 Gén Leclerc']\n",
      "['Swiss life', 'Transparence courtage sarl', 'Matmut', 'Fenix solutions', 'Macif assurances', 'Allianz delesalle christian agent général', 'Axa a2p martins olivier-arnaud agent général', 'Gan assurances heuls stéphane agent général', 'Debus olivier', 'Gmf assurances']\n",
      "['1 R Mar De Lattre De Tassigny', '20 Pl Liberté', '19 Grande Rue', 'R Isabeau De Roubaix', '50 Grande Rue', '43 R Mar Foch', '43 R Charlie Chaplin', '678 Av Nations Unies', '14 R Coq Français', '56 Gén Leclerc']\n",
      "['Swiss life', 'Transparence courtage sarl', 'Matmut', 'Fenix solutions', 'Macif assurances', 'Allianz delesalle christian agent général', 'Axa a2p martins olivier-arnaud agent général', 'Gan assurances heuls stéphane agent général', 'Debus olivier', 'Gmf assurances']\n",
      "['1 R Mar De Lattre De Tassigny', '20 Pl Liberté', '19 Grande Rue', 'R Isabeau De Roubaix', '50 Grande Rue', '43 R Mar Foch', '43 R Charlie Chaplin', '678 Av Nations Unies', '14 R Coq Français', '56 Gén Leclerc']\n",
      "['Swiss life', 'Matmut', 'Macif assurances', 'Fenix solutions', 'Wack-bessot laurence', 'Transparence courtage sarl', 'Assu 2000', 'Axa a2p martins olivier-arnaud agent général', 'Debus olivier']\n",
      "['1 R Mar De Lattre De Tassigny', '19 Grande Rue', '50 Grande Rue', 'R Isabeau De Roubaix', '9 R Grand Chemin', '20 Pl Liberté', '61 Bd Gén Leclerc', '43 R Charlie Chaplin', '14 R Coq Français']\n",
      "['Swiss life', 'Macif assurances', 'Matmut', 'Axa a2p martins olivier-arnaud agent général', 'Assu 2000', 'Axa d\"hulst thierry agent général', 'Debus olivier', 'Axa delebecque olivier agent général', 'Wack-bessot laurence', 'Gan assurances heuls stéphane agent général', 'Transparence courtage sarl', 'Allianz delesalle christian agent général', 'Cap catoire assurances prevoyance', 'Fenix solutions', 'Ox6gen assurances', 'Swiss life', 'Transparence courtage sarl', 'Matmut', 'Fenix solutions', 'Macif assurances', 'Allianz delesalle christian agent général', 'Axa a2p martins olivier-arnaud agent général', 'Gan assurances heuls stéphane agent général', 'Debus olivier', 'Gmf assurances', 'Swiss life', 'Transparence courtage sarl', 'Matmut', 'Fenix solutions', 'Macif assurances', 'Allianz delesalle christian agent général', 'Axa a2p martins olivier-arnaud agent général', 'Gan assurances heuls stéphane agent général', 'Debus olivier', 'Gmf assurances', 'Swiss life', 'Transparence courtage sarl', 'Matmut', 'Fenix solutions', 'Macif assurances', 'Allianz delesalle christian agent général', 'Axa a2p martins olivier-arnaud agent général', 'Gan assurances heuls stéphane agent général', 'Debus olivier', 'Gmf assurances', 'Swiss life', 'Matmut', 'Macif assurances', 'Fenix solutions', 'Wack-bessot laurence', 'Transparence courtage sarl', 'Assu 2000', 'Axa a2p martins olivier-arnaud agent général', 'Debus olivier']\n",
      "['1 R Mar De Lattre De Tassigny', '50 Grande Rue', '19 Grande Rue', '43 R Charlie Chaplin', '61 Bd Gén Leclerc', '4 Bd Reims', '14 R Coq Français', '63 Av Jean Baptiste Lebas', '9 R Grand Chemin', '678 Av Nations Unies', '20 Pl Liberté', '43 R Mar Foch', '24 Bd Belfort', 'R Isabeau De Roubaix', '565 R Lannoy', '1 R Mar De Lattre De Tassigny', '20 Pl Liberté', '19 Grande Rue', 'R Isabeau De Roubaix', '50 Grande Rue', '43 R Mar Foch', '43 R Charlie Chaplin', '678 Av Nations Unies', '14 R Coq Français', '56 Gén Leclerc', '1 R Mar De Lattre De Tassigny', '20 Pl Liberté', '19 Grande Rue', 'R Isabeau De Roubaix', '50 Grande Rue', '43 R Mar Foch', '43 R Charlie Chaplin', '678 Av Nations Unies', '14 R Coq Français', '56 Gén Leclerc', '1 R Mar De Lattre De Tassigny', '20 Pl Liberté', '19 Grande Rue', 'R Isabeau De Roubaix', '50 Grande Rue', '43 R Mar Foch', '43 R Charlie Chaplin', '678 Av Nations Unies', '14 R Coq Français', '56 Gén Leclerc', '1 R Mar De Lattre De Tassigny', '19 Grande Rue', '50 Grande Rue', 'R Isabeau De Roubaix', '9 R Grand Chemin', '20 Pl Liberté', '61 Bd Gén Leclerc', '43 R Charlie Chaplin', '14 R Coq Français']\n"
     ]
    }
   ],
   "source": [
    "from selenium import webdriver\n",
    "from selenium.webdriver.common.by import By\n",
    "from selenium.webdriver.chrome.service import Service\n",
    "from selenium.webdriver.chrome.options import Options\n",
    "from selenium.webdriver.support.ui import WebDriverWait\n",
    "from selenium.webdriver.support import expected_conditions as EC\n",
    "from selenium.common.exceptions import TimeoutException, WebDriverException, NoSuchElementException\n",
    "import time\n",
    "\n",
    "try:\n",
    "    # Initialize WebDriver\n",
    "    service = Service()\n",
    "    options = webdriver.ChromeOptions()\n",
    "    driver = webdriver.Chrome(service=service, options=options)\n",
    "\n",
    "    # Other actions...\n",
    "\n",
    "\n",
    "    driver.get('https://commerces.roubaix.fr/annuaire/ville/roubaix-59/assurance')\n",
    "\n",
    "\n",
    "    titles_all=[]\n",
    "    addresses_all = []\n",
    "\n",
    "    #loop through page results \n",
    "\n",
    "    for page in range(1,6):\n",
    "       # Wait for the elements to be visible\n",
    "        elements_loaded = WebDriverWait(driver, 20).until(\n",
    "        EC.visibility_of_all_elements_located((By.CSS_SELECTOR, 'h2.h4'))\n",
    "    )\n",
    "        \n",
    "        # Fetch and print the text of the elements\n",
    "        titles = [h2Elt.text   for h2Elt in elements_loaded]\n",
    "        print(titles)\n",
    "        titles_all.append(titles)\n",
    "\n",
    "        # Fetch and print the text of the address\n",
    "        elements_addresses = driver.find_elements(By.CSS_SELECTOR, 'address.bi_adress > p:first-child' )\n",
    "\n",
    "        addresses = [address.text for address in elements_addresses]\n",
    "        print(addresses)\n",
    "        addresses_all.append(addresses)\n",
    "\n",
    "        elements_cities = driver.find_elements(By.CSS_SELECTOR, 'address.bi_adress > p:nth-child(2)' )\n",
    "        cities = [citie.text for citie in elements_cities]\n",
    "       \n",
    "\n",
    " # Find the button by itd HTML attribute ()\n",
    "        next_button = driver.find_element(By.CSS_SELECTOR, 'button.len1.adpJam')\n",
    "        next_button.click()\n",
    "\n",
    "        # Optional: Add a delay to ensure the page fully loads before extracting results\n",
    "        time.sleep(2)\n",
    "        \n",
    "\n",
    "except TimeoutException as te:\n",
    "    print(f\"TimeoutException: {te}\")\n",
    "    # Handle timeout exception\n",
    "except WebDriverException as wde:\n",
    "    print(f\"WebDriverException: {wde}\")\n",
    "    # Handle WebDriver related exception\n",
    "except NoSuchElementException as nse:\n",
    "    print(f\"NoSuchElementException: {nse}\")\n",
    "    # Handle NoSuchElementException\n",
    "except Exception as ex:\n",
    "    print(f\"An unexpected exception occurred: {ex}\")\n",
    "    # Handle other exceptions\n",
    "\n",
    "finally:\n",
    "    # Close the browser window in the finally block to ensure it's closed even if an exception occurs\n",
    "    if 'driver' in locals() and driver is not None:\n",
    "        driver.quit()\n",
    "\n",
    "# If you want a flat list containing titles from all pages, use extend\n",
    "flat_titles_list = [title for titles_page in titles_all for title in titles_page]\n",
    "print(flat_titles_list) \n",
    "flat_addresses_list = [address for addresses_page in addresses_all for address in addresses_page]\n",
    "print(flat_addresses_list)   "
   ]
  },
  {
   "cell_type": "markdown",
   "metadata": {},
   "source": [
    "create a dataframe with differents lists\n"
   ]
  },
  {
   "cell_type": "code",
   "execution_count": null,
   "metadata": {},
   "outputs": [
    {
     "ename": "",
     "evalue": "",
     "output_type": "error",
     "traceback": [
      "\u001b[1;31mFailed to start the Kernel. \n",
      "\u001b[1;31mUnable to start Kernel 'DATABIRD (Python 3.11.5)' due to a connection timeout. \n",
      "\u001b[1;31mView Jupyter <a href='command:jupyter.viewOutput'>log</a> for further details."
     ]
    }
   ],
   "source": [
    "insurers_list = {'insurers': flat_titles_list,\n",
    "                 'address' : flat_addresses_list}\n",
    "    \n",
    "    \n",
    "insurers_list = pd.DataFrame(insurers_list)\n",
    "insurers_list"
   ]
  },
  {
   "cell_type": "code",
   "execution_count": null,
   "metadata": {},
   "outputs": [
    {
     "ename": "",
     "evalue": "",
     "output_type": "error",
     "traceback": [
      "\u001b[1;31mFailed to start the Kernel. \n",
      "\u001b[1;31mUnable to start Kernel 'DATABIRD (Python 3.11.5)' due to a connection timeout. \n",
      "\u001b[1;31mView Jupyter <a href='command:jupyter.viewOutput'>log</a> for further details."
     ]
    }
   ],
   "source": [
    "insurers_list.to_csv('roubaix_02024_insurers_list.csv', index=False)"
   ]
  },
  {
   "cell_type": "code",
   "execution_count": null,
   "metadata": {},
   "outputs": [
    {
     "ename": "",
     "evalue": "",
     "output_type": "error",
     "traceback": [
      "\u001b[1;31mFailed to start the Kernel. \n",
      "\u001b[1;31mUnable to start Kernel 'DATABIRD (Python 3.11.5)' due to a connection timeout. \n",
      "\u001b[1;31mView Jupyter <a href='command:jupyter.viewOutput'>log</a> for further details."
     ]
    }
   ],
   "source": [
    "from selenium import webdriver\n",
    "from selenium.webdriver.common.by import By\n",
    "from selenium.webdriver.chrome.service import Service\n",
    "from selenium.webdriver.chrome.options import Options\n",
    "from selenium.webdriver.support.ui import WebDriverWait\n",
    "from selenium.webdriver.support import expected_conditions as EC\n",
    "from selenium.common.exceptions import TimeoutException, WebDriverException, NoSuchElementException, StaleElementReferenceException\n",
    "\n",
    "try:\n",
    "    # Initialize WebDriver\n",
    "    service = Service()\n",
    "    options = webdriver.ChromeOptions()\n",
    "    driver = webdriver.Chrome(service=service, options=options)\n",
    "\n",
    "    # Other actions...\n",
    "    driver.get('https://commerces.roubaix.fr/annuaire/ville/roubaix-59/assurance')\n",
    "\n",
    "    # Scroll to the bottom of the page to trigger element loading (adjust as needed)\n",
    "    driver.execute_script(\"window.scrollTo(0, document.body.scrollHeight);\")\n",
    "\n",
    "    # Wait for the elements to be visible\n",
    "    elements_loaded = WebDriverWait(driver, 20).until(\n",
    "        EC.visibility_of_all_elements_located((By.CSS_SELECTOR, 'h2.h4'))\n",
    "    )\n",
    "\n",
    "    # Fetch and print the text of the elements\n",
    "    titles = []\n",
    "    for h2Elt in elements_loaded:\n",
    "        try:\n",
    "            title_text = h2Elt.text\n",
    "            titles.append(title_text)\n",
    "        except StaleElementReferenceException:\n",
    "            # Re-find the element if it becomes stale\n",
    "            h2Elt = WebDriverWait(driver, 100).until(\n",
    "                EC.visibility_of(h2Elt)\n",
    "            )\n",
    "            title_text = h2Elt.text\n",
    "            titles.append(title_text)\n",
    "\n",
    "    print(titles)\n",
    "\n",
    "except TimeoutException as te:\n",
    "    print(f\"TimeoutException: {te}\")\n",
    "    # Handle timeout exception\n",
    "except WebDriverException as wde:\n",
    "    print(f\"WebDriverException: {wde}\")\n",
    "    # Handle WebDriver related exception\n",
    "except NoSuchElementException as nse:\n",
    "    print(f\"NoSuchElementException: {nse}\")\n",
    "    # Handle NoSuchElementException\n",
    "except Exception as ex:\n",
    "    print(f\"An unexpected exception occurred: {ex}\")\n",
    "    # Handle other exceptions\n",
    "\n",
    "finally:\n",
    "    # Close the browser window in the finally block to ensure it's closed even if an exception occurs\n",
    "    if 'driver' in locals() and driver is not None:\n",
    "        driver.quit()\n",
    "\n"
   ]
  },
  {
   "cell_type": "code",
   "execution_count": null,
   "metadata": {},
   "outputs": [
    {
     "ename": "",
     "evalue": "",
     "output_type": "error",
     "traceback": [
      "\u001b[1;31m---------------------------------------------------------------------------\u001b[0m",
      "\u001b[1;31mAttributeError\u001b[0m                            Traceback (most recent call last)",
      "Cell \u001b[1;32mIn[11], line 1\u001b[0m\n\u001b[1;32m----> 1\u001b[0m \u001b[43mtitles\u001b[49m\u001b[38;5;241;43m.\u001b[39;49m\u001b[43mto_frame\u001b[49m()\n",
      "\u001b[1;31mAttributeError\u001b[0m: 'list' object has no attribute 'to_frame'"
     ]
    }
   ],
   "source": [
    "titles.to_frame()"
   ]
  },
  {
   "cell_type": "markdown",
   "metadata": {},
   "source": []
  }
 ],
 "metadata": {
  "kernelspec": {
   "display_name": "base",
   "language": "python",
   "name": "python3"
  },
  "language_info": {
   "codemirror_mode": {
    "name": "ipython",
    "version": 3
   },
   "file_extension": ".py",
   "mimetype": "text/x-python",
   "name": "python",
   "nbconvert_exporter": "python",
   "pygments_lexer": "ipython3",
   "version": "3.11.5"
  }
 },
 "nbformat": 4,
 "nbformat_minor": 2
}
